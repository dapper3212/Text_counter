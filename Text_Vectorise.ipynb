{
 "cells": [
  {
   "cell_type": "code",
   "execution_count": 3,
   "id": "f3f5d230",
   "metadata": {
    "scrolled": true
   },
   "outputs": [],
   "source": [
    "import numpy as np\n",
    "import pandas as pd\n",
    "#required for removing accented, non-english characters\n",
    "import unicodedata\n",
    "#tokenization and stemming\n",
    "import nltk\n",
    "from nltk.tokenize.toktok import ToktokTokenizer\n",
    "#remove html tags\n",
    "from bs4 import BeautifulSoup\n",
    "#remove special characters\n",
    "import re\n",
    "# for limmitisation\n",
    "#import spacy\n",
    "\n",
    "import os\n",
    "\n",
    "# removes html text/tags\n",
    "\n",
    "def extract_html(text):\n",
    "    soup = BeautifulSoup(text, \"html.parser\")\n",
    "    stripped_text = soup.get_text()\n",
    "    return stripped_text\n",
    "\n",
    "#replace accented characters\n",
    "\n",
    "def replace_accented_chars(text):\n",
    "    text = unicodedata.normalize('NFKD', text).encode('ascii', 'ignore').decode('utf-8', 'ignore')\n",
    "    return text\n",
    "\n",
    "#split sentence into individual words\n",
    "\n",
    "def tokenise_text(text):\n",
    "    tokenizer=ToktokTokenizer()\n",
    "    tokens=tokenizer.tokenize(text)\n",
    "    return tokens\n",
    "\n",
    "\n",
    "# remove special characters and unecessary puntuation \n",
    "\n",
    "def remove_special_characters(text, remove_digits=False):\n",
    "    pattern = r'[^a-zA-z0-9\\s]' if not remove_digits else r'[^a-zA-z\\s]'\n",
    "    text = re.sub(pattern, '', text)\n",
    "    return text\n",
    "\n",
    "#stemming for NLP processing if requeired but not required for this use case\n",
    "def simple_stemmer(text):\n",
    "    ps = nltk.porter.PorterStemmer()\n",
    "    text = ' '.join([ps.stem(word) for word in text.split()])\n",
    "    return text\n",
    "\n",
    "# load the text file containing the text to be converted to a dictionary\n",
    "def load_text_from_file(file_path):\n",
    "    #open text file in read mode\n",
    "    text_file = open(file_path, \"r\")\n",
    "\n",
    "    #read whole file to a string\n",
    "    data = text_file.read()\n",
    "    #close file\n",
    "    text_file.close()\n",
    "    return data\n",
    "\n",
    "def sort_dictionary_df(df,ascend):\n",
    "    if ascend==True:\n",
    "        return df.sort_values(by=['unique_words'])\n",
    "    else:\n",
    "        return df.sort_values(by='unique_words', ascending=False)\n",
    "    \n",
    "\n",
    "\n",
    "# limmitisation for more advanced NLP. Not required for this use case\n",
    "#nlp = spacy.load('en_core_web_sm', parse=True, tag=True, entity=True)\n",
    "#def lemmatize_text(text):\n",
    "#    text = nlp(text)\n",
    "#    text = ' '.join([word.lemma_ if word.lemma_ != '-PRON-' else word.text for word in text])\n",
    "#    return text"
   ]
  },
  {
   "cell_type": "code",
   "execution_count": 4,
   "id": "3b5d0c7f",
   "metadata": {},
   "outputs": [],
   "source": [
    "test_string = load_text_from_file(\"test.txt\")"
   ]
  },
  {
   "cell_type": "code",
   "execution_count": 5,
   "id": "bb2fcfad",
   "metadata": {},
   "outputs": [
    {
     "name": "stdout",
     "output_type": "stream",
     "text": [
      "William Shakespeare was an English playwright, poet and actor. He is widely regarded as the greatest writer in the English language and the world's greatest dramatist. He is often called England's national poet and the \"Bard of Avon\".\n"
     ]
    }
   ],
   "source": [
    "print(test_string)"
   ]
  },
  {
   "cell_type": "code",
   "execution_count": 6,
   "id": "8c4e1cfb",
   "metadata": {},
   "outputs": [
    {
     "name": "stdout",
     "output_type": "stream",
     "text": [
      "['William', 'Shakespeare', 'was', 'an', 'English', 'playwright', 'poet', 'and', 'actor', 'He', 'is', 'widely', 'regarded', 'as', 'the', 'greatest', 'writer', 'in', 'the', 'English', 'language', 'and', 'the', 'worlds', 'greatest', 'dramatist', 'He', 'is', 'often', 'called', 'Englands', 'national', 'poet', 'and', 'the', 'Bard', 'of', 'Avon']\n"
     ]
    }
   ],
   "source": [
    "test_string = extract_html(test_string)\n",
    "test_string = replace_accented_chars(test_string)\n",
    "test_string = remove_special_characters(test_string)\n",
    "test_string = remove_special_characters(test_string)\n",
    "\n",
    "word_list = tokenise_text(test_string)\n",
    "\n",
    "print(word_list)\n",
    "\n",
    "\n"
   ]
  },
  {
   "cell_type": "code",
   "execution_count": 7,
   "id": "869e6e5a",
   "metadata": {},
   "outputs": [
    {
     "name": "stdout",
     "output_type": "stream",
     "text": [
      "\n",
      "dictionary ascending:\n",
      "\n",
      "   unique_words  word_count\n",
      "27         Avon           1\n",
      "14         Bard           1\n",
      "11     Englands           1\n",
      "3       English           2\n",
      "5            He           2\n",
      "19  Shakespeare           1\n",
      "17      William           1\n",
      "23        actor           1\n",
      "25           an           1\n",
      "1           and           3\n",
      "20           as           1\n",
      "7        called           1\n",
      "9     dramatist           1\n",
      "2      greatest           2\n",
      "12           in           1\n",
      "6            is           2\n",
      "16     language           1\n",
      "13     national           1\n",
      "15           of           1\n",
      "10        often           1\n",
      "24   playwright           1\n",
      "4          poet           2\n",
      "21     regarded           1\n",
      "0           the           4\n",
      "26          was           1\n",
      "22       widely           1\n",
      "8        worlds           1\n",
      "18       writer           1\n",
      "\n",
      "dictionary descending:\n",
      "\n",
      "   unique_words  word_count\n",
      "18       writer           1\n",
      "8        worlds           1\n",
      "22       widely           1\n",
      "26          was           1\n",
      "0           the           4\n",
      "21     regarded           1\n",
      "4          poet           2\n",
      "24   playwright           1\n",
      "10        often           1\n",
      "15           of           1\n",
      "13     national           1\n",
      "16     language           1\n",
      "6            is           2\n",
      "12           in           1\n",
      "2      greatest           2\n",
      "9     dramatist           1\n",
      "7        called           1\n",
      "20           as           1\n",
      "1           and           3\n",
      "25           an           1\n",
      "23        actor           1\n",
      "17      William           1\n",
      "19  Shakespeare           1\n",
      "5            He           2\n",
      "3       English           2\n",
      "11     Englands           1\n",
      "14         Bard           1\n",
      "27         Avon           1\n"
     ]
    }
   ],
   "source": [
    "word_df = pd.DataFrame(word_list)\n",
    "word_df.rename(columns = {0:'all_words'}, inplace = True)\n",
    "grouped_words = word_df['all_words'].value_counts()\n",
    "final_dict = pd.DataFrame(grouped_words)\n",
    "final_dict = final_dict.reset_index(level=0)\n",
    "final_dict.rename(columns = {'index':'unique_words','all_words':'word_count'}, inplace = True)\n",
    "\n",
    "print('')\n",
    "print(\"dictionary ascending:\")\n",
    "print('')\n",
    "print(sort_dictionary_df(final_dict,True))\n",
    "print('')\n",
    "print(\"dictionary descending:\")\n",
    "print('')\n",
    "print(sort_dictionary_df(final_dict,False))\n",
    "\n"
   ]
  }
 ],
 "metadata": {
  "kernelspec": {
   "display_name": "Python 3 (ipykernel)",
   "language": "python",
   "name": "python3"
  },
  "language_info": {
   "codemirror_mode": {
    "name": "ipython",
    "version": 3
   },
   "file_extension": ".py",
   "mimetype": "text/x-python",
   "name": "python",
   "nbconvert_exporter": "python",
   "pygments_lexer": "ipython3",
   "version": "3.9.7"
  }
 },
 "nbformat": 4,
 "nbformat_minor": 5
}
